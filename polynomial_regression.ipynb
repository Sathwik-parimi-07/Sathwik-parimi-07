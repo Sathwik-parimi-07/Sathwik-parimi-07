{
  "cells": [
    {
      "cell_type": "markdown",
      "metadata": {
        "id": "view-in-github",
        "colab_type": "text"
      },
      "source": [
        "<a href=\"https://colab.research.google.com/github/Sathwik-parimi-07/Sathwik-parimi-07/blob/main/polynomial_regression.ipynb\" target=\"_parent\"><img src=\"https://colab.research.google.com/assets/colab-badge.svg\" alt=\"Open In Colab\"/></a>"
      ]
    },
    {
      "cell_type": "code",
      "execution_count": null,
      "id": "341711b8-17c8-4419-bb21-648011e819a8",
      "metadata": {
        "id": "341711b8-17c8-4419-bb21-648011e819a8"
      },
      "outputs": [],
      "source": [
        "import numpy as np\n",
        "import pandas as pd\n",
        "import matplotlib.pyplot as plt"
      ]
    },
    {
      "cell_type": "code",
      "execution_count": null,
      "id": "pJCEYRolhmJe",
      "metadata": {
        "colab": {
          "background_save": true
        },
        "id": "pJCEYRolhmJe",
        "outputId": "36a87db5-ab7f-449b-e537-82f3a0f20205"
      },
      "outputs": [
        {
          "ename": "ValueError",
          "evalue": "mount failed",
          "output_type": "error",
          "traceback": [
            "\u001b[0;31m---------------------------------------------------------------------------\u001b[0m",
            "\u001b[0;31mValueError\u001b[0m                                Traceback (most recent call last)",
            "\u001b[0;32m<ipython-input-2-d5df0069828e>\u001b[0m in \u001b[0;36m<cell line: 2>\u001b[0;34m()\u001b[0m\n\u001b[1;32m      1\u001b[0m \u001b[0;32mfrom\u001b[0m \u001b[0mgoogle\u001b[0m\u001b[0;34m.\u001b[0m\u001b[0mcolab\u001b[0m \u001b[0;32mimport\u001b[0m \u001b[0mdrive\u001b[0m\u001b[0;34m\u001b[0m\u001b[0;34m\u001b[0m\u001b[0m\n\u001b[0;32m----> 2\u001b[0;31m \u001b[0mdrive\u001b[0m\u001b[0;34m.\u001b[0m\u001b[0mmount\u001b[0m\u001b[0;34m(\u001b[0m\u001b[0;34m'/content/drive'\u001b[0m\u001b[0;34m)\u001b[0m\u001b[0;34m\u001b[0m\u001b[0;34m\u001b[0m\u001b[0m\n\u001b[0m",
            "\u001b[0;32m/usr/local/lib/python3.10/dist-packages/google/colab/drive.py\u001b[0m in \u001b[0;36mmount\u001b[0;34m(mountpoint, force_remount, timeout_ms, readonly)\u001b[0m\n\u001b[1;32m     98\u001b[0m \u001b[0;32mdef\u001b[0m \u001b[0mmount\u001b[0m\u001b[0;34m(\u001b[0m\u001b[0mmountpoint\u001b[0m\u001b[0;34m,\u001b[0m \u001b[0mforce_remount\u001b[0m\u001b[0;34m=\u001b[0m\u001b[0;32mFalse\u001b[0m\u001b[0;34m,\u001b[0m \u001b[0mtimeout_ms\u001b[0m\u001b[0;34m=\u001b[0m\u001b[0;36m120000\u001b[0m\u001b[0;34m,\u001b[0m \u001b[0mreadonly\u001b[0m\u001b[0;34m=\u001b[0m\u001b[0;32mFalse\u001b[0m\u001b[0;34m)\u001b[0m\u001b[0;34m:\u001b[0m\u001b[0;34m\u001b[0m\u001b[0;34m\u001b[0m\u001b[0m\n\u001b[1;32m     99\u001b[0m   \u001b[0;34m\"\"\"Mount your Google Drive at the specified mountpoint path.\"\"\"\u001b[0m\u001b[0;34m\u001b[0m\u001b[0;34m\u001b[0m\u001b[0m\n\u001b[0;32m--> 100\u001b[0;31m   return _mount(\n\u001b[0m\u001b[1;32m    101\u001b[0m       \u001b[0mmountpoint\u001b[0m\u001b[0;34m,\u001b[0m\u001b[0;34m\u001b[0m\u001b[0;34m\u001b[0m\u001b[0m\n\u001b[1;32m    102\u001b[0m       \u001b[0mforce_remount\u001b[0m\u001b[0;34m=\u001b[0m\u001b[0mforce_remount\u001b[0m\u001b[0;34m,\u001b[0m\u001b[0;34m\u001b[0m\u001b[0;34m\u001b[0m\u001b[0m\n",
            "\u001b[0;32m/usr/local/lib/python3.10/dist-packages/google/colab/drive.py\u001b[0m in \u001b[0;36m_mount\u001b[0;34m(mountpoint, force_remount, timeout_ms, ephemeral, readonly)\u001b[0m\n\u001b[1;32m    275\u001b[0m             \u001b[0;34m'https://research.google.com/colaboratory/faq.html#drive-timeout'\u001b[0m\u001b[0;34m\u001b[0m\u001b[0;34m\u001b[0m\u001b[0m\n\u001b[1;32m    276\u001b[0m         )\n\u001b[0;32m--> 277\u001b[0;31m       \u001b[0;32mraise\u001b[0m \u001b[0mValueError\u001b[0m\u001b[0;34m(\u001b[0m\u001b[0;34m'mount failed'\u001b[0m \u001b[0;34m+\u001b[0m \u001b[0mextra_reason\u001b[0m\u001b[0;34m)\u001b[0m\u001b[0;34m\u001b[0m\u001b[0;34m\u001b[0m\u001b[0m\n\u001b[0m\u001b[1;32m    278\u001b[0m     \u001b[0;32melif\u001b[0m \u001b[0mcase\u001b[0m \u001b[0;34m==\u001b[0m \u001b[0;36m4\u001b[0m\u001b[0;34m:\u001b[0m\u001b[0;34m\u001b[0m\u001b[0;34m\u001b[0m\u001b[0m\n\u001b[1;32m    279\u001b[0m       \u001b[0;31m# Terminate the DriveFS binary before killing bash.\u001b[0m\u001b[0;34m\u001b[0m\u001b[0;34m\u001b[0m\u001b[0m\n",
            "\u001b[0;31mValueError\u001b[0m: mount failed"
          ]
        }
      ],
      "source": [
        "from google.colab import drive\n",
        "drive.mount('/content/drive')"
      ]
    },
    {
      "cell_type": "code",
      "execution_count": null,
      "id": "a671136f-f1ff-4132-a43c-8fc0a684141d",
      "metadata": {
        "colab": {
          "background_save": true
        },
        "id": "a671136f-f1ff-4132-a43c-8fc0a684141d"
      },
      "outputs": [],
      "source": [
        "data=pd.read_csv(r'/content/drive/MyDrive/woc drive/polynomial_regression_train.csv')"
      ]
    },
    {
      "cell_type": "code",
      "execution_count": null,
      "id": "68486ecd-6505-4a63-a8a5-b9f4fccecc0a",
      "metadata": {
        "colab": {
          "background_save": true
        },
        "id": "68486ecd-6505-4a63-a8a5-b9f4fccecc0a"
      },
      "outputs": [],
      "source": [
        "data.info()\n",
        "data.head()"
      ]
    },
    {
      "cell_type": "code",
      "execution_count": null,
      "id": "gxHiJdAuiAWG",
      "metadata": {
        "colab": {
          "background_save": true
        },
        "id": "gxHiJdAuiAWG"
      },
      "outputs": [],
      "source": [
        "data.describe()"
      ]
    },
    {
      "cell_type": "code",
      "execution_count": null,
      "id": "EUPt62vOizDw",
      "metadata": {
        "colab": {
          "background_save": true
        },
        "id": "EUPt62vOizDw"
      },
      "outputs": [],
      "source": [
        "data2=data.drop(columns=['ID'],axis=1)"
      ]
    },
    {
      "cell_type": "code",
      "execution_count": null,
      "id": "58833910-409a-408c-bd21-3b1822f54c46",
      "metadata": {
        "colab": {
          "background_save": true
        },
        "id": "58833910-409a-408c-bd21-3b1822f54c46"
      },
      "outputs": [],
      "source": [
        "x=data2.iloc[:,:-1].values\n",
        "y=data2.iloc[:,-1].values"
      ]
    },
    {
      "cell_type": "code",
      "execution_count": null,
      "id": "kuqsZQhUjbSI",
      "metadata": {
        "colab": {
          "background_save": true
        },
        "id": "kuqsZQhUjbSI"
      },
      "outputs": [],
      "source": [
        "data2.columns[-1]\n",
        "data2.columns[:-1]"
      ]
    },
    {
      "cell_type": "code",
      "execution_count": null,
      "id": "1Wwhhvc0FV8n",
      "metadata": {
        "colab": {
          "background_save": true
        },
        "id": "1Wwhhvc0FV8n"
      },
      "outputs": [],
      "source": [
        "#standardisation\n",
        "#normalisation features\n",
        "mean=np.mean(x,axis=0)\n",
        "sd=np.std(x,axis=0)\n",
        "x=(x-mean)/sd\n",
        "\n",
        "print(x)"
      ]
    },
    {
      "cell_type": "code",
      "execution_count": null,
      "id": "URuaJO6WFjyb",
      "metadata": {
        "colab": {
          "background_save": true
        },
        "id": "URuaJO6WFjyb"
      },
      "outputs": [],
      "source": [
        "#normalisation features\n",
        "\n",
        "mean=np.mean(y,axis=0)\n",
        "sd=np.std(y,axis=0)\n",
        "y=(y-mean)/sd\n",
        "\n",
        "print(y)"
      ]
    },
    {
      "cell_type": "code",
      "execution_count": null,
      "id": "3cf1e321-956c-4850-a3ad-9aeb81deb1bd",
      "metadata": {
        "colab": {
          "background_save": true
        },
        "id": "3cf1e321-956c-4850-a3ad-9aeb81deb1bd"
      },
      "outputs": [],
      "source": [
        "fig, axs = plt.subplots(2, 3, figsize=(15, 10))\n",
        "\n",
        "# List of feature names\n",
        "features = data2.columns[:-1]\n",
        "\n",
        "# Flatten the subplot array to make it easier to iterate over\n",
        "axs = axs.flatten()\n",
        "\n",
        "# Iterate through each feature and plot it\n",
        "for i in range(5):\n",
        "    axs[i].scatter(x[:, i], y)\n",
        "    axs[i].set_xlabel(features[i])\n",
        "    axs[i].set_ylabel('Target')\n",
        "    axs[i].set_title(f'{features[i]} vs Target')\n",
        "\n",
        "# Adjust layout\n",
        "plt.tight_layout()\n",
        "plt.show()"
      ]
    },
    {
      "cell_type": "code",
      "execution_count": null,
      "id": "91cd4242-9e77-404f-bc5e-d9eaefc5a45f",
      "metadata": {
        "colab": {
          "background_save": true
        },
        "id": "91cd4242-9e77-404f-bc5e-d9eaefc5a45f"
      },
      "outputs": [],
      "source": [
        "data2.corr()  #concentrate on feature_3>1>4>5>2"
      ]
    },
    {
      "cell_type": "code",
      "execution_count": null,
      "id": "FhJlxO9pveio",
      "metadata": {
        "colab": {
          "background_save": true
        },
        "id": "FhJlxO9pveio"
      },
      "outputs": [],
      "source": [
        "#indices are our new class ID. LOL #:)\n",
        "indices = np.arange(len(x))\n",
        "np.random.shuffle(indices)\n",
        "\n",
        "# Split indices\n",
        "train_ratio = 0.8\n",
        "train_size = int(len(x) * train_ratio)\n",
        "train_indices = indices[:train_size]\n",
        "test_indices = indices[train_size:]\n",
        "\n",
        "# Split features and targets\n",
        "x_train = x[train_indices]\n",
        "x_test = x[test_indices]\n",
        "y_train = y[train_indices]\n",
        "y_test = y[test_indices]"
      ]
    },
    {
      "cell_type": "code",
      "execution_count": null,
      "id": "H68EdFpezAjB",
      "metadata": {
        "colab": {
          "background_save": true
        },
        "id": "H68EdFpezAjB"
      },
      "outputs": [],
      "source": [
        "print(x_train.shape, y_train.shape)\n",
        "print(x_test.shape, y_test.shape)"
      ]
    },
    {
      "cell_type": "code",
      "execution_count": null,
      "id": "bfwbCXVEwc_w",
      "metadata": {
        "colab": {
          "background_save": true
        },
        "id": "bfwbCXVEwc_w"
      },
      "outputs": [],
      "source": [
        "fig, axs = plt.subplots(2, 3, figsize=(15, 10))\n",
        "\n",
        "# List of feature names\n",
        "features = data2.columns[:-1]\n",
        "\n",
        "# Flatten the subplot array to make it easier to iterate over\n",
        "axs = axs.flatten()\n",
        "\n",
        "# Iterate through each feature and plot it\n",
        "for i in range(5):\n",
        "    axs[i].scatter(x_train[:, i], y_train,color='red',label='train')\n",
        "    axs[i].scatter(x_test[:, i], y_test,color='blue',label='test')\n",
        "    axs[i].legend(loc='upper center')\n",
        "    axs[i].set_xlabel(features[i])\n",
        "    axs[i].set_ylabel('Target')\n",
        "    axs[i].set_title(f'{features[i]} vs Target')\n",
        "\n",
        "# Adjust layout\n",
        "plt.tight_layout()\n",
        "plt.show()"
      ]
    },
    {
      "cell_type": "code",
      "execution_count": null,
      "id": "2fGUwmUZ2SFy",
      "metadata": {
        "colab": {
          "background_save": true
        },
        "id": "2fGUwmUZ2SFy"
      },
      "outputs": [],
      "source": [
        "#our beloved MSE to tell our mistakes.LOL :)\n",
        "def mean_squared_error(y_true, y_pred):\n",
        "    return np.mean((y_true - y_pred) ** 2)"
      ]
    },
    {
      "cell_type": "code",
      "execution_count": null,
      "id": "WpFhO6r9mC_V",
      "metadata": {
        "colab": {
          "background_save": true
        },
        "id": "WpFhO6r9mC_V"
      },
      "outputs": [],
      "source": [
        "#concentrate on feature_3>1>4>5>2:             #2.0.3.4.1\n",
        "coefint0=np.polyfit(x_train[:,0],y_train,3)     #choosing 7 as best fit\n",
        "coefint1=np.polyfit(x_train[:,1],y_train,0)    #choosing 3 as best fit\n",
        "coefint2=np.polyfit(x_train[:,2],y_train,4)  #choosing 10 degree as best fit\n",
        "coefint3=np.polyfit(x_train[:,3],y_train,2)    #choosing 5 as best fit\n",
        "coefint4=np.polyfit(x_train[:,4],y_train,1)    #choosng 4 as best fit\n",
        "\n",
        "x_fit = x_train[:, 2]  # Extracting the first feature (independent variable)\n",
        "y_fit = np.polyval(coefint2, x_fit)  # Evaluating the polynomial at the x values\n",
        "\n",
        "# Sort x_fit and compute corresponding y_fit values\n",
        "sorted_indices = np.argsort(x_fit)  # Get indices that would sort x_fit\n",
        "x_fit_sorted = x_fit[sorted_indices]  # Sort x_fit\n",
        "y_fit_sorted = np.polyval(coefint2, x_fit_sorted)  # Compute y_fit for sorted x_fit\n",
        "\n",
        "\n",
        "# Plotting the data points and the polynomial fit\n",
        "plt.scatter(x_train[:,2], y_train[:], color='blue', label='Training Data')  # Scatter plot of the actual data\n",
        "plt.plot(x_fit_sorted, y_fit_sorted, color='red', label='Polynomial Fit')  # Plot of the polynomial fit\n",
        "plt.xlabel('Feature 1')\n",
        "plt.ylabel('Target')\n",
        "plt.legend()\n",
        "plt.show()"
      ]
    },
    {
      "cell_type": "code",
      "execution_count": null,
      "id": "CmmMe95J2-gl",
      "metadata": {
        "colab": {
          "background_save": true
        },
        "id": "CmmMe95J2-gl"
      },
      "outputs": [],
      "source": [
        "print(coefint0)\n",
        "print(coefint1)\n",
        "print(coefint2)\n",
        "print(coefint3)\n",
        "print(coefint4)"
      ]
    },
    {
      "cell_type": "code",
      "execution_count": null,
      "id": "ItdGMqT_faCn",
      "metadata": {
        "colab": {
          "background_save": true
        },
        "id": "ItdGMqT_faCn"
      },
      "outputs": [],
      "source": [
        "print(x[:1,:])"
      ]
    },
    {
      "cell_type": "code",
      "execution_count": null,
      "id": "E4ZhBtIbpz9c",
      "metadata": {
        "colab": {
          "background_save": true
        },
        "id": "E4ZhBtIbpz9c"
      },
      "outputs": [],
      "source": [
        "y_pred=coefint2[0]*x_train[:,2]**4 +(coefint0[0]+coefint2[1])*x_train[:,0]**3+coefint3[0]*x_train[:,3]**2+coefint4[0]*x_train[:,4]-coefint1[0]+0.048\n",
        "\n",
        "print(y_pred[:100])\n",
        "print(\" _______The comparision _______\")\n",
        "print(y_train[:100])\n"
      ]
    },
    {
      "cell_type": "code",
      "execution_count": null,
      "id": "IHjw6wo7OEdZ",
      "metadata": {
        "colab": {
          "background_save": true
        },
        "id": "IHjw6wo7OEdZ"
      },
      "outputs": [],
      "source": [
        "mean= mean_squared_error(y_train, y_pred)\n",
        "print(mean)                                           #seems somewhat better!!"
      ]
    },
    {
      "cell_type": "code",
      "execution_count": null,
      "id": "_nFP4R0ZDvt3",
      "metadata": {
        "colab": {
          "background_save": true
        },
        "id": "_nFP4R0ZDvt3"
      },
      "outputs": [],
      "source": [
        "import numpy as np\n",
        "\n",
        "def r2_score(y_true, y_pred):\n",
        "\n",
        "    # Compute the total sum of squares (variance of the true values)\n",
        "    ss_total = np.sum((y_true - np.mean(y_true)) ** 2)\n",
        "\n",
        "    # Compute the residual sum of squares\n",
        "    ss_residual = np.sum((y_true - y_pred) ** 2)\n",
        "\n",
        "    # Calculate the R² score\n",
        "    r2 = 1 - (ss_residual / ss_total)\n",
        "\n",
        "    return r2\n"
      ]
    },
    {
      "cell_type": "code",
      "execution_count": null,
      "id": "j3AcrVmpEKh2",
      "metadata": {
        "colab": {
          "background_save": true
        },
        "id": "j3AcrVmpEKh2"
      },
      "outputs": [],
      "source": [
        "# Example data\n",
        "y_true = y_train\n",
        "y_pred = y_pred\n",
        "\n",
        "# Calculate R² score\n",
        "r2 = r2_score(y_true, y_pred)\n",
        "print(\"R² Score:\", r2)\n",
        "                                                               #R² Score: 0.010725618032016437   0.011373117260710996  0.017175096673179735"
      ]
    },
    {
      "cell_type": "code",
      "execution_count": null,
      "id": "DbRjYA72GHM_",
      "metadata": {
        "colab": {
          "background_save": true
        },
        "id": "DbRjYA72GHM_"
      },
      "outputs": [],
      "source": [
        "ss_total = np.sum((y_true - np.mean(y_true)) ** 2)\n",
        "ss_residual = np.sum((y_true - y_pred) ** 2)\n",
        "\n",
        "print(\"SS Total:\", ss_total)\n",
        "print(\"SS Residual:\", ss_residual)\n",
        "print(\"R² Score:\", 1 - ss_residual / ss_total)\n"
      ]
    },
    {
      "cell_type": "code",
      "execution_count": null,
      "id": "6unLngsBh_vO",
      "metadata": {
        "colab": {
          "background_save": true
        },
        "id": "6unLngsBh_vO"
      },
      "outputs": [],
      "source": []
    }
  ],
  "metadata": {
    "colab": {
      "provenance": [],
      "include_colab_link": true
    },
    "kernelspec": {
      "display_name": "Python 3 (ipykernel)",
      "language": "python",
      "name": "python3"
    },
    "language_info": {
      "codemirror_mode": {
        "name": "ipython",
        "version": 3
      },
      "file_extension": ".py",
      "mimetype": "text/x-python",
      "name": "python",
      "nbconvert_exporter": "python",
      "pygments_lexer": "ipython3",
      "version": "3.13.0"
    }
  },
  "nbformat": 4,
  "nbformat_minor": 5
}